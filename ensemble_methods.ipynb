{
  "nbformat": 4,
  "nbformat_minor": 0,
  "metadata": {
    "colab": {
      "name": "HW7_Tsai_Wayland.ipynb",
      "provenance": [],
      "collapsed_sections": [
        "UDtpJLrCXdj-",
        "TC9xxX-MaJiJ"
      ],
      "toc_visible": true
    },
    "kernelspec": {
      "name": "python3",
      "display_name": "Python 3"
    },
    "language_info": {
      "name": "python"
    }
  },
  "cells": [
    {
      "cell_type": "markdown",
      "metadata": {
        "id": "YEBNn7WNVVH9"
      },
      "source": [
        "# Homework 7 (30 marks)\n",
        "Create a copy of the notebook to start answering the questions. Name your notebook in the format HW7_lastname_firstname.ipynb to facilitate the grading process.\n",
        "\n",
        "Answer all the questions, test your code to ensure there are no errors and the results are as expected. Once you have answered all the questions, save the final copy, then go to File-> click on Download.ipynb. Once the local copy has been downloaded, submit your file on Blackboard under the corresponding assignment section. Also provide us a link to your notebook during submission.\n",
        "\n",
        "NOTE: Please give the TAs the permission to access your notebooks through the links you have provided during submission.\n",
        "\n",
        "The due date of this homework is 04/23/2021 (Friday).\n",
        "\n",
        "Please ensure you follow all the steps mentioned in the homework.\n",
        "\n",
        "You can submit your solutions any number of times until the deadline.\n",
        "\n",
        "The datasets used in this homework can be found in the google drive link below -\n",
        "\n",
        "https://drive.google.com/drive/folders/1NxCh4X7u7wVo5aHojxjLNs9wC7B7zJhb?usp=sharing\n",
        "\n",
        "Follow the necessary steps to import data to test your code. You can use any method to read your data in the notebook. We will not be grading the methods you use. We will only grade the code from the point where you read the dataset into a pandas dataframe - (pd.read_csv('file_name'))"
      ]
    },
    {
      "cell_type": "markdown",
      "metadata": {
        "id": "XNkmD9GdVx37"
      },
      "source": [
        "Import all the libraries you require in the cell below.\n"
      ]
    },
    {
      "cell_type": "code",
      "metadata": {
        "id": "O38dWgFrTt9g"
      },
      "source": [
        "import pandas as pd\n",
        "import numpy as np\n",
        "from sklearn.impute import SimpleImputer\n",
        "from sklearn.preprocessing import MinMaxScaler\n",
        "\n",
        "# Enter your code here\n",
        "from sklearn.model_selection import train_test_split\n",
        "from sklearn.dummy import DummyClassifier\n",
        "from sklearn.ensemble import BaggingClassifier\n",
        "from sklearn.ensemble import RandomForestClassifier\n",
        "from sklearn.metrics import (classification_report, recall_score, precision_score, accuracy_score)\n",
        "from sklearn.ensemble import AdaBoostClassifier\n",
        "from sklearn.ensemble import VotingClassifier\n",
        "from sklearn.tree import DecisionTreeClassifier\n",
        "from sklearn.svm import SVC\n",
        "from sklearn.linear_model import LogisticRegression\n",
        "\n",
        "import operator"
      ],
      "execution_count": 2,
      "outputs": []
    },
    {
      "cell_type": "markdown",
      "metadata": {
        "id": "HggTkCZoWOSE"
      },
      "source": [
        "## Implement the Ensemble methods learnt in class and compare their accuarcies."
      ]
    },
    {
      "cell_type": "markdown",
      "metadata": {
        "id": "g-eAjVVDV_Nm"
      },
      "source": [
        "The dataset you are going to be using for homework is the **Wisconsin Breast Cancer dataset (cancer.csv)**\n",
        "\n",
        "The dataset contains a total number of 10 features labeled in either benign or malignant classes. The features have 699 instances out of which 16 feature values are missing. The dataset only contains numeric values.\n",
        "\n",
        "Attribute Information:\n",
        "\n",
        "1. Sample code number: id number\n",
        "2. Clump Thickness: 1 - 10\n",
        "3. Uniformity of Cell Size: 1 - 10\n",
        "4. Uniformity of Cell Shape: 1 - 10\n",
        "5. Marginal Adhesion: 1 - 10\n",
        "6. Single Epithelial Cell Size: 1 - 10\n",
        "7. Bare Nuclei: 1 - 10\n",
        "8. Bland Chromatin: 1 - 10\n",
        "9. Normal Nucleoli: 1 - 10\n",
        "10. Mitoses: 1 - 10\n",
        "11. Class: (2 for benign, 4 for malignant) (**target variable**)\n",
        "\n",
        "For more information: https://archive.ics.uci.edu/ml/datasets/breast+cancer+wisconsin+(original)"
      ]
    },
    {
      "cell_type": "markdown",
      "metadata": {
        "id": "g3iLZY-gXhVH"
      },
      "source": [
        "### 1. Read the dataset into variable called '**data**' (1 mark)"
      ]
    },
    {
      "cell_type": "code",
      "metadata": {
        "id": "U2II5L3AXn2A",
        "colab": {
          "base_uri": "https://localhost:8080/",
          "height": 221
        },
        "outputId": "953e2ff6-6ae5-4ee0-f635-2ddd91f42b2b"
      },
      "source": [
        "pd.set_option('display.max_columns', 100)\n",
        "# Enter your code here\n",
        "\n",
        "data = pd.read_csv('cancer.csv')\n",
        "data.head()"
      ],
      "execution_count": 3,
      "outputs": [
        {
          "output_type": "execute_result",
          "data": {
            "text/html": [
              "<div>\n",
              "<style scoped>\n",
              "    .dataframe tbody tr th:only-of-type {\n",
              "        vertical-align: middle;\n",
              "    }\n",
              "\n",
              "    .dataframe tbody tr th {\n",
              "        vertical-align: top;\n",
              "    }\n",
              "\n",
              "    .dataframe thead th {\n",
              "        text-align: right;\n",
              "    }\n",
              "</style>\n",
              "<table border=\"1\" class=\"dataframe\">\n",
              "  <thead>\n",
              "    <tr style=\"text-align: right;\">\n",
              "      <th></th>\n",
              "      <th>Sample Code Number</th>\n",
              "      <th>Clump Thickness</th>\n",
              "      <th>Uniformity of Cell Size</th>\n",
              "      <th>Uniformity of Cell Shape</th>\n",
              "      <th>Marginal Adhesion</th>\n",
              "      <th>Single Epithelial Cell Size</th>\n",
              "      <th>Bland Chromatin</th>\n",
              "      <th>Bare Nuclei</th>\n",
              "      <th>Normal Nucleoli</th>\n",
              "      <th>Mitosis</th>\n",
              "      <th>Class</th>\n",
              "    </tr>\n",
              "  </thead>\n",
              "  <tbody>\n",
              "    <tr>\n",
              "      <th>0</th>\n",
              "      <td>1000025</td>\n",
              "      <td>5</td>\n",
              "      <td>1</td>\n",
              "      <td>1</td>\n",
              "      <td>1</td>\n",
              "      <td>2</td>\n",
              "      <td>1</td>\n",
              "      <td>3</td>\n",
              "      <td>1</td>\n",
              "      <td>1</td>\n",
              "      <td>2</td>\n",
              "    </tr>\n",
              "    <tr>\n",
              "      <th>1</th>\n",
              "      <td>1002945</td>\n",
              "      <td>5</td>\n",
              "      <td>4</td>\n",
              "      <td>4</td>\n",
              "      <td>5</td>\n",
              "      <td>7</td>\n",
              "      <td>10</td>\n",
              "      <td>3</td>\n",
              "      <td>2</td>\n",
              "      <td>1</td>\n",
              "      <td>2</td>\n",
              "    </tr>\n",
              "    <tr>\n",
              "      <th>2</th>\n",
              "      <td>1015425</td>\n",
              "      <td>3</td>\n",
              "      <td>1</td>\n",
              "      <td>1</td>\n",
              "      <td>1</td>\n",
              "      <td>2</td>\n",
              "      <td>2</td>\n",
              "      <td>3</td>\n",
              "      <td>1</td>\n",
              "      <td>1</td>\n",
              "      <td>2</td>\n",
              "    </tr>\n",
              "    <tr>\n",
              "      <th>3</th>\n",
              "      <td>1016277</td>\n",
              "      <td>6</td>\n",
              "      <td>8</td>\n",
              "      <td>8</td>\n",
              "      <td>1</td>\n",
              "      <td>3</td>\n",
              "      <td>4</td>\n",
              "      <td>3</td>\n",
              "      <td>7</td>\n",
              "      <td>1</td>\n",
              "      <td>2</td>\n",
              "    </tr>\n",
              "    <tr>\n",
              "      <th>4</th>\n",
              "      <td>1017023</td>\n",
              "      <td>4</td>\n",
              "      <td>1</td>\n",
              "      <td>1</td>\n",
              "      <td>3</td>\n",
              "      <td>2</td>\n",
              "      <td>1</td>\n",
              "      <td>3</td>\n",
              "      <td>1</td>\n",
              "      <td>1</td>\n",
              "      <td>2</td>\n",
              "    </tr>\n",
              "  </tbody>\n",
              "</table>\n",
              "</div>"
            ],
            "text/plain": [
              "   Sample Code Number  Clump Thickness  Uniformity of Cell Size   \\\n",
              "0             1000025                5                         1   \n",
              "1             1002945                5                         4   \n",
              "2             1015425                3                         1   \n",
              "3             1016277                6                         8   \n",
              "4             1017023                4                         1   \n",
              "\n",
              "   Uniformity of Cell Shape  Marginal Adhesion  Single Epithelial Cell Size  \\\n",
              "0                         1                  1                            2   \n",
              "1                         4                  5                            7   \n",
              "2                         1                  1                            2   \n",
              "3                         8                  1                            3   \n",
              "4                         1                  3                            2   \n",
              "\n",
              "  Bland Chromatin  Bare Nuclei  Normal Nucleoli  Mitosis  Class  \n",
              "0               1            3                1        1      2  \n",
              "1              10            3                2        1      2  \n",
              "2               2            3                1        1      2  \n",
              "3               4            3                7        1      2  \n",
              "4               1            3                1        1      2  "
            ]
          },
          "metadata": {
            "tags": []
          },
          "execution_count": 3
        }
      ]
    },
    {
      "cell_type": "markdown",
      "metadata": {
        "id": "7DvQpJcMXRd0"
      },
      "source": [
        "### **Preprocessing**: Data needs to be preprocessed before implementing ensemble methods. It is done for you here. \n",
        "### Run the below code first and then answer the questions from 2 - 7."
      ]
    },
    {
      "cell_type": "markdown",
      "metadata": {
        "id": "UDtpJLrCXdj-"
      },
      "source": [
        "#### Deleting unnecessary columns: The column \"Sample code number\" is just an indicator and it's of no use in the modeling. So, let's drop it:\n"
      ]
    },
    {
      "cell_type": "code",
      "metadata": {
        "id": "3bbOI9AYTziJ"
      },
      "source": [
        "data.drop(['Sample Code Number'],axis = 1, inplace = True)\n"
      ],
      "execution_count": 4,
      "outputs": []
    },
    {
      "cell_type": "markdown",
      "metadata": {
        "id": "uaUqMhEPYqSF"
      },
      "source": [
        "#### Handling missing values : \n",
        "As mentioned earlier, the dataset contains missing values. The column named \"Bland Chromatin\" contains them. The missing values are represneted as \"?\". \n",
        "\n",
        "Replace those \"?\"s with 0's and impute them with Mean Imputation"
      ]
    },
    {
      "cell_type": "code",
      "metadata": {
        "id": "cHu_DIDcZs_8",
        "colab": {
          "base_uri": "https://localhost:8080/"
        },
        "outputId": "b832e636-e338-4bd5-fcf8-8010ea7ff853"
      },
      "source": [
        "data['Bland Chromatin']"
      ],
      "execution_count": 5,
      "outputs": [
        {
          "output_type": "execute_result",
          "data": {
            "text/plain": [
              "0       1\n",
              "1      10\n",
              "2       2\n",
              "3       4\n",
              "4       1\n",
              "       ..\n",
              "694     2\n",
              "695     1\n",
              "696     3\n",
              "697     4\n",
              "698     5\n",
              "Name: Bland Chromatin, Length: 699, dtype: object"
            ]
          },
          "metadata": {
            "tags": []
          },
          "execution_count": 5
        }
      ]
    },
    {
      "cell_type": "code",
      "metadata": {
        "id": "u_5GSsVjU930"
      },
      "source": [
        "data.replace('?',0, inplace=True)"
      ],
      "execution_count": 6,
      "outputs": []
    },
    {
      "cell_type": "code",
      "metadata": {
        "id": "LV3PVQB0U_mF"
      },
      "source": [
        "# Convert the DataFrame object into NumPy array otherwise you will not be able to impute\n",
        "values = data.values\n",
        "# Now impute it\n",
        "imputer = SimpleImputer(missing_values=np.nan, strategy='mean')\n",
        "imputedData = imputer.fit_transform(values)"
      ],
      "execution_count": 7,
      "outputs": []
    },
    {
      "cell_type": "markdown",
      "metadata": {
        "id": "TC9xxX-MaJiJ"
      },
      "source": [
        "#### Normalizing the data:\n",
        "Ranges of the features of the dataset are not the same. This may cause a problem. A small change in a feature might not affect the other. To address this problem, normalize the ranges of the features to a uniform range, in this case, 0 - 1."
      ]
    },
    {
      "cell_type": "code",
      "metadata": {
        "id": "VomHojxET85c",
        "colab": {
          "base_uri": "https://localhost:8080/"
        },
        "outputId": "a5e4ea8e-a87c-40e3-9b79-a69dcab960f6"
      },
      "source": [
        "scaler = MinMaxScaler(feature_range=(0, 1))\n",
        "normalizedData = scaler.fit_transform(imputedData)\n",
        "cols = ['Clump Thickness', 'Uniformity of Cell Size', 'Uniformity of Cell Shape', 'Marginal Adhesion', 'Single Epithelial Cell Size', 'Bland Chromatin', 'Bare Nuclei', 'Normal Nucleoli', 'Mitosis','Class']\n",
        "normalizedData = pd.DataFrame(normalizedData, columns=cols)\n",
        "print(normalizedData.head())"
      ],
      "execution_count": 8,
      "outputs": [
        {
          "output_type": "stream",
          "text": [
            "   Clump Thickness  Uniformity of Cell Size  Uniformity of Cell Shape  \\\n",
            "0         0.444444                 0.000000                  0.000000   \n",
            "1         0.444444                 0.333333                  0.333333   \n",
            "2         0.222222                 0.000000                  0.000000   \n",
            "3         0.555556                 0.777778                  0.777778   \n",
            "4         0.333333                 0.000000                  0.000000   \n",
            "\n",
            "   Marginal Adhesion  Single Epithelial Cell Size  Bland Chromatin  \\\n",
            "0           0.000000                     0.111111              0.1   \n",
            "1           0.444444                     0.666667              1.0   \n",
            "2           0.000000                     0.111111              0.2   \n",
            "3           0.000000                     0.222222              0.4   \n",
            "4           0.222222                     0.111111              0.1   \n",
            "\n",
            "   Bare Nuclei  Normal Nucleoli  Mitosis  Class  \n",
            "0     0.222222         0.000000      0.0    0.0  \n",
            "1     0.222222         0.111111      0.0    0.0  \n",
            "2     0.222222         0.000000      0.0    0.0  \n",
            "3     0.222222         0.666667      0.0    0.0  \n",
            "4     0.222222         0.000000      0.0    0.0  \n"
          ],
          "name": "stdout"
        }
      ]
    },
    {
      "cell_type": "markdown",
      "metadata": {
        "id": "Sb2YjZckaZ2-"
      },
      "source": [
        "### Data preprocessing is done and now you will answer the below questions using the **normalizedData**: "
      ]
    },
    {
      "cell_type": "markdown",
      "metadata": {
        "id": "Cq2ChemrbDz2"
      },
      "source": [
        "### 2. Split the data into test and training data with test size - 30%. Compute the baseline classification accuracy for X_train. (3 marks)"
      ]
    },
    {
      "cell_type": "code",
      "metadata": {
        "id": "gOshE9K_UA5S",
        "colab": {
          "base_uri": "https://localhost:8080/"
        },
        "outputId": "6393e1e3-b2a2-4248-8667-608c6fe74d4c"
      },
      "source": [
        "# Enter your code here\n",
        "X = normalizedData[['Clump Thickness', 'Uniformity of Cell Size', 'Uniformity of Cell Shape', 'Marginal Adhesion', 'Single Epithelial Cell Size', 'Bland Chromatin', 'Bare Nuclei', 'Normal Nucleoli', 'Mitosis']]\n",
        "y = normalizedData[['Class']]\n",
        "X_train, X_test, y_train, y_test = train_test_split(X, y, test_size=0.3, stratify=y)\n",
        "\n",
        "dum_classifier = DummyClassifier(strategy='most_frequent')\n",
        "dum_classifier.fit(X_train, y_train)\n",
        "baseline = dum_classifier.score(X_test, y_test)\n",
        "print(\"Baseline Accuracy = \" + str(baseline))\n",
        "                                                    "
      ],
      "execution_count": 11,
      "outputs": [
        {
          "output_type": "stream",
          "text": [
            "Baseline Accuracy = 0.6571428571428571\n"
          ],
          "name": "stdout"
        }
      ]
    },
    {
      "cell_type": "markdown",
      "metadata": {
        "id": "J3RUF9RvgA-N"
      },
      "source": [
        "### 3.  Bagging : Build a generic Bagging ensemble and print the accuracy (4 marks)\n",
        "---\n",
        "\n",
        "\n",
        "Hyperparameters:\n",
        "\n",
        "Base estimator = DecisionTreeClassifier\n",
        "\n",
        "n_estimators = 10\n",
        "\n",
        "random_state = 42\n",
        "\n",
        "---\n"
      ]
    },
    {
      "cell_type": "code",
      "metadata": {
        "id": "C78-znrIUDcs",
        "colab": {
          "base_uri": "https://localhost:8080/"
        },
        "outputId": "f1029939-45aa-4c51-95e8-35ee68a5eaad"
      },
      "source": [
        "# Generic Bagging model\n",
        "# Enter your code here\n",
        "decision_tree_model = DecisionTreeClassifier()\n",
        "bagging_model = BaggingClassifier(base_estimator=decision_tree_model, n_estimators=10, random_state=42)\n",
        "bagging_model.fit(X_train, y_train)\n",
        "\n",
        "bagging_prediction = bagging_model.predict(X_test)\n",
        "bagging_accuracy = accuracy_score(y_test, bagging_prediction)\n",
        "print(\"Bagging Accuracy = \" + str(bagging_accuracy))"
      ],
      "execution_count": 12,
      "outputs": [
        {
          "output_type": "stream",
          "text": [
            "Bagging Accuracy = 0.9523809523809523\n"
          ],
          "name": "stdout"
        },
        {
          "output_type": "stream",
          "text": [
            "/usr/local/lib/python3.7/dist-packages/sklearn/ensemble/_bagging.py:645: DataConversionWarning: A column-vector y was passed when a 1d array was expected. Please change the shape of y to (n_samples, ), for example using ravel().\n",
            "  y = column_or_1d(y, warn=True)\n"
          ],
          "name": "stderr"
        }
      ]
    },
    {
      "cell_type": "markdown",
      "metadata": {
        "id": "mlupszlqg6El"
      },
      "source": [
        "### 4. RandomForest : (7 marks)\n",
        "#### a) Build a Random Forest model and print the accuracy (4 marks)\n",
        "---\n",
        "\n",
        "Constructor arguments: \n",
        "\n",
        "\n",
        "n_estimators = 100, max_features = 7 and random_state = 42 \n",
        "\n",
        "\n",
        "---\n",
        "\n",
        "\n"
      ]
    },
    {
      "cell_type": "code",
      "metadata": {
        "colab": {
          "base_uri": "https://localhost:8080/"
        },
        "id": "TagawD02hKlF",
        "outputId": "d93a5d38-3b09-4bc0-c2c7-60004e5db7e0"
      },
      "source": [
        "# Random Forest model\n",
        "# Enter your code here\n",
        "random_forest_model = RandomForestClassifier(n_estimators=100, max_features=7, random_state=42)\n",
        "random_forest_model.fit(X_train, y_train)\n",
        "random_forest_prediction = random_forest_model.predict(X_test)\n",
        "random_forest_accuracy = accuracy_score(y_test, random_forest_prediction)\n",
        "print(\"Random Forest Accuracy = \" + str(random_forest_accuracy))\n"
      ],
      "execution_count": 13,
      "outputs": [
        {
          "output_type": "stream",
          "text": [
            "Random Forest Accuracy = 0.9809523809523809\n"
          ],
          "name": "stdout"
        },
        {
          "output_type": "stream",
          "text": [
            "/usr/local/lib/python3.7/dist-packages/ipykernel_launcher.py:4: DataConversionWarning: A column-vector y was passed when a 1d array was expected. Please change the shape of y to (n_samples,), for example using ravel().\n",
            "  after removing the cwd from sys.path.\n"
          ],
          "name": "stderr"
        }
      ]
    },
    {
      "cell_type": "markdown",
      "metadata": {
        "id": "48iH9eV8xkbE"
      },
      "source": [
        "####  b) Calculate the top 3 important features for the above **RandomForest** model and print them (3 marks)"
      ]
    },
    {
      "cell_type": "code",
      "metadata": {
        "id": "M469DqsQxlFN",
        "colab": {
          "base_uri": "https://localhost:8080/"
        },
        "outputId": "1bd7feb0-b9d0-47f1-e6b9-8eaff33113bb"
      },
      "source": [
        "# Top 3 features for RandomForest\n",
        "# Enter your code here\n",
        "feature_importance = random_forest_model.feature_importances_\n",
        "features = X_train.columns\n",
        "df = pd.DataFrame({'Features': features, \"Importance\": feature_importance}).nlargest(3,'Importance')\n",
        "print(df)\n"
      ],
      "execution_count": 14,
      "outputs": [
        {
          "output_type": "stream",
          "text": [
            "                   Features  Importance\n",
            "1   Uniformity of Cell Size    0.425214\n",
            "2  Uniformity of Cell Shape    0.221293\n",
            "5           Bland Chromatin    0.115975\n"
          ],
          "name": "stdout"
        }
      ]
    },
    {
      "cell_type": "markdown",
      "metadata": {
        "id": "rnrkSasYh6gF"
      },
      "source": [
        "### 5. Boosting: (7 marks)\n",
        "#### a) Build an AdaBoost model with training data and print the accuracy (4 marks)\n",
        "---\n",
        "\n",
        "Hyperparameters:\n",
        "\n",
        "Base estimator = DecisionTreeClassifier, max_depth = 4\n",
        "\n",
        "n_estimators = 200\n",
        "\n",
        "random_state = 42\n",
        "\n",
        "learning_rate = 0.05\n",
        "\n",
        "\n",
        "---\n",
        "\n",
        "\n",
        "\n",
        "\n",
        "\n",
        "\n",
        "\n"
      ]
    },
    {
      "cell_type": "code",
      "metadata": {
        "id": "DQIzaUjWUHv7",
        "colab": {
          "base_uri": "https://localhost:8080/"
        },
        "outputId": "58a1d3c3-7f3c-4d65-d503-48d834e1082a"
      },
      "source": [
        "# AdaBoost Classification\n",
        "# Enter your code here\n",
        "base_estimator = DecisionTreeClassifier(max_depth=4)\n",
        "ada_boost_model = AdaBoostClassifier(base_estimator=base_estimator, n_estimators=200, random_state=42, learning_rate=0.05)\n",
        "ada_boost_model.fit(X_train, y_train)\n",
        "ada_accuracy = accuracy_score(y_test, ada_boost_model.predict(X_test))\n",
        "print(\"AdaBoost Accuracy = \" + str(ada_accuracy))"
      ],
      "execution_count": 16,
      "outputs": [
        {
          "output_type": "stream",
          "text": [
            "/usr/local/lib/python3.7/dist-packages/sklearn/utils/validation.py:760: DataConversionWarning: A column-vector y was passed when a 1d array was expected. Please change the shape of y to (n_samples, ), for example using ravel().\n",
            "  y = column_or_1d(y, warn=True)\n"
          ],
          "name": "stderr"
        },
        {
          "output_type": "stream",
          "text": [
            "AdaBoost Accuracy = 0.9714285714285714\n"
          ],
          "name": "stdout"
        }
      ]
    },
    {
      "cell_type": "markdown",
      "metadata": {
        "id": "usBQDazfw2L1"
      },
      "source": [
        "#### b) Calculate the top 3 important features for the above **AdaBoost** model and print them (3 marks)"
      ]
    },
    {
      "cell_type": "code",
      "metadata": {
        "id": "jbEUjwQRw3rW",
        "colab": {
          "base_uri": "https://localhost:8080/"
        },
        "outputId": "1ed28bd1-b5bc-4696-9158-30938330cebf"
      },
      "source": [
        "# Top 3 features for AdaBoost\n",
        "# Enter your code here\n",
        "feature_importance_ada = ada_boost_model.feature_importances_\n",
        "features_ada = X_train.columns\n",
        "df_ada = pd.DataFrame({'Features': features_ada, \"Importance\": feature_importance_ada}).nlargest(3,'Importance')\n",
        "print(df_ada)\n"
      ],
      "execution_count": 19,
      "outputs": [
        {
          "output_type": "stream",
          "text": [
            "                  Features  Importance\n",
            "1  Uniformity of Cell Size    0.234841\n",
            "7          Normal Nucleoli    0.176296\n",
            "3        Marginal Adhesion    0.134458\n"
          ],
          "name": "stdout"
        }
      ]
    },
    {
      "cell_type": "markdown",
      "metadata": {
        "id": "zMpdvP7ZjAOt"
      },
      "source": [
        "### 6. Voting : Using a voting classifier, build an ensemble of RandomForestClassifier, DecisionTreeClassifier, Support Vector Machine and Logistic Regression. (7 marks)\n",
        "\n",
        "\n",
        "---\n",
        "\n",
        "\n",
        "Use max_depth = 4, n_estimators = 200, voting = soft"
      ]
    },
    {
      "cell_type": "code",
      "metadata": {
        "id": "3M3ZIcrqUKjK",
        "colab": {
          "base_uri": "https://localhost:8080/"
        },
        "outputId": "3592f92c-093e-4105-e88a-eecde74ee47a"
      },
      "source": [
        "# Voting Ensemble for Classification\n",
        "# Enter your code here\n",
        "\n",
        "random_forest_class = RandomForestClassifier(n_estimators=200)\n",
        "decision_tree_class = DecisionTreeClassifier(max_depth=4)\n",
        "svm_class = SVC(probability=True)\n",
        "logistic_class = LogisticRegression()\n",
        "# construct ensemble classifier by mentioning all classifiers\n",
        "classifier = VotingClassifier(estimators= [('RandomForest', random_forest_class), ('DecisionTree', decision_tree_class), ('SVM', svm_class), ('LogisticReg', logistic_class)], voting='soft')\n",
        "# train ensemble classifier\n",
        "classifier.fit(X_train, y_train)\n",
        "classifier_prediction = classifier.predict(X_test)\n",
        "\n",
        "voting_acc = accuracy_score(y_test, classifier_prediction)\n",
        "print(\"Voting Accuracy = \" + str(voting_acc))"
      ],
      "execution_count": 20,
      "outputs": [
        {
          "output_type": "stream",
          "text": [
            "/usr/local/lib/python3.7/dist-packages/sklearn/preprocessing/_label.py:235: DataConversionWarning: A column-vector y was passed when a 1d array was expected. Please change the shape of y to (n_samples, ), for example using ravel().\n",
            "  y = column_or_1d(y, warn=True)\n",
            "/usr/local/lib/python3.7/dist-packages/sklearn/preprocessing/_label.py:268: DataConversionWarning: A column-vector y was passed when a 1d array was expected. Please change the shape of y to (n_samples, ), for example using ravel().\n",
            "  y = column_or_1d(y, warn=True)\n"
          ],
          "name": "stderr"
        },
        {
          "output_type": "stream",
          "text": [
            "Voting Accuracy = 0.9761904761904762\n"
          ],
          "name": "stdout"
        }
      ]
    },
    {
      "cell_type": "markdown",
      "metadata": {
        "id": "Wj2CVbBYVTun"
      },
      "source": [
        "### 7. Mention the best model among the above 4 models and its accuracy (1 mark)"
      ]
    },
    {
      "cell_type": "code",
      "metadata": {
        "id": "gj09m4z_lXNB",
        "colab": {
          "base_uri": "https://localhost:8080/"
        },
        "outputId": "afef6c7b-8225-4563-8a3e-7253b317a96a"
      },
      "source": [
        "# Write your answer here\n",
        "models = [\"Random Forest\", \"AdaBoost\", \"Bagging\", \"Voting\"]\n",
        "accuracies = [random_forest_accuracy, ada_accuracy, bagging_accuracy, voting_acc]\n",
        "\n",
        "df_rankings = pd.DataFrame({\"Model\": models, \"Accuracy\": accuracies}).sort_values(by=\"Accuracy\", ascending=False)\n",
        "print(df_rankings)"
      ],
      "execution_count": 23,
      "outputs": [
        {
          "output_type": "stream",
          "text": [
            "           Model  Accuracy\n",
            "0  Random Forest  0.980952\n",
            "3         Voting  0.976190\n",
            "1       AdaBoost  0.971429\n",
            "2        Bagging  0.952381\n"
          ],
          "name": "stdout"
        }
      ]
    },
    {
      "cell_type": "code",
      "metadata": {
        "colab": {
          "base_uri": "https://localhost:8080/"
        },
        "id": "5_TbnpwZrJxE",
        "outputId": "a6446c37-f92f-4b37-9bf2-9f393aa8ef12"
      },
      "source": [
        "print(\"Best Model: Random Forest Classifier, with accuracy score of \" + str(random_forest_accuracy))"
      ],
      "execution_count": 22,
      "outputs": [
        {
          "output_type": "stream",
          "text": [
            "Best Model: Random Forest Classifier, with accuracy score of 0.9809523809523809\n"
          ],
          "name": "stdout"
        }
      ]
    }
  ]
}